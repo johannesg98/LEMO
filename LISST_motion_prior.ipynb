{
  "nbformat": 4,
  "nbformat_minor": 0,
  "metadata": {
    "colab": {
      "provenance": [],
      "machine_shape": "hm",
      "gpuType": "V100"
    },
    "kernelspec": {
      "name": "python3",
      "display_name": "Python 3"
    },
    "language_info": {
      "name": "python"
    },
    "accelerator": "GPU"
  },
  "cells": [
    {
      "cell_type": "code",
      "execution_count": null,
      "metadata": {
        "id": "8n5YQ7Bpb-OT"
      },
      "outputs": [],
      "source": [
        "#setup of environment\n",
        "#important: after running this cell, it shows a \"restart runtime button\" in the output-> press it!\n",
        "#after that continue with the other steps\n",
        "\n",
        "!git clone https://github.com/johannesg98/LEMO.git\n",
        "\n",
        "%cd /content/LEMO\n",
        "!pip install -r requirements.txt"
      ]
    },
    {
      "cell_type": "code",
      "source": [
        "#cell for pulling curent changes on github, only necessary if changes have been made\n",
        "%cd /content/LEMO\n",
        "!git pull"
      ],
      "metadata": {
        "id": "YlgeQ2TpgMBG"
      },
      "execution_count": null,
      "outputs": []
    },
    {
      "cell_type": "code",
      "source": [
        "#mount Google Drive\n",
        "from google.colab import drive\n",
        "drive.mount('/content/drive', force_remount=True)"
      ],
      "metadata": {
        "id": "p3YoU3lccBf-"
      },
      "execution_count": null,
      "outputs": []
    },
    {
      "cell_type": "code",
      "source": [
        "\"\"\"\n",
        "-to run this, put training data in: /content/drive/MyDrive/LEMO/CMU-canon-MPx8-train.pkl    link: https://polybox.ethz.ch/index.php/s/s753qhM7Axmfvdp\n",
        "-create empty folders: /content/drive/MyDrive/LEMO/preprocess_stats and /content/drive/MyDrive/LEMO/runs_try\n",
        "-if you start training from the beginning, remove both arguments:\n",
        " -> if you continue after pausing, add the number of the most recent checkpoint from drive in .../runs_try\n",
        " -> at later stages decrease learning rate... default = 0.0001\n",
        "\n",
        " it basically runs forever (100000 epochs), so just stop when necessary and use the most recent checkpoint as motion prior\n",
        "\n",
        "\"\"\"\n",
        "\n",
        "!python '/content/LEMO/train_smooth_prior.py' --last_checkpoint 84671 --lr 0.000001"
      ],
      "metadata": {
        "id": "GavrgTP-d7Hj"
      },
      "execution_count": null,
      "outputs": []
    },
    {
      "cell_type": "code",
      "source": [],
      "metadata": {
        "id": "C_O2K-Xf5w-H"
      },
      "execution_count": null,
      "outputs": []
    }
  ]
}